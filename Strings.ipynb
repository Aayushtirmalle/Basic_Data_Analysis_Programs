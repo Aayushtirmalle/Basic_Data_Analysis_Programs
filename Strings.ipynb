{
 "cells": [
  {
   "cell_type": "code",
   "execution_count": 1,
   "id": "8686451d",
   "metadata": {},
   "outputs": [
    {
     "name": "stdout",
     "output_type": "stream",
     "text": [
      "Hello World!   Python Programming\n"
     ]
    }
   ],
   "source": [
    "a = 'Hello World!'\n",
    "b = \"Python Programming\"\n",
    "print(a,\" \",b)"
   ]
  },
  {
   "cell_type": "code",
   "execution_count": 2,
   "id": "b3130a1b",
   "metadata": {},
   "outputs": [
    {
     "name": "stdout",
     "output_type": "stream",
     "text": [
      "H\n",
      "ytho\n"
     ]
    }
   ],
   "source": [
    "a = 'Hello World!'\n",
    "b = \"Python Programming\"\n",
    "print (a[0])\n",
    "print (b[1:5])"
   ]
  },
  {
   "cell_type": "code",
   "execution_count": 4,
   "id": "4e3b999e",
   "metadata": {},
   "outputs": [
    {
     "name": "stdout",
     "output_type": "stream",
     "text": [
      "Updated String :-  Hello Aayush\n"
     ]
    }
   ],
   "source": [
    "a = 'Hello World!'\n",
    "print (\"Updated String :- \", a[0:6] + 'Aayush')"
   ]
  },
  {
   "cell_type": "code",
   "execution_count": 5,
   "id": "69779f38",
   "metadata": {},
   "outputs": [
    {
     "name": "stdout",
     "output_type": "stream",
     "text": [
      "Please Enter Your Own String : Aayush\n",
      "The Final String : b  =  Aayush\n",
      "The Final String : c  = =  Aayush\n",
      "The Final String : d  = =  yush\n"
     ]
    }
   ],
   "source": [
    "a = input(\"Please Enter Your Own String : \")\n",
    "b = a\n",
    "c = a[:]\n",
    "d = a[2:6]\n",
    "print(\"The Final String : b  = \", b)\n",
    "print(\"The Final String : c  = = \", c)\n",
    "print(\"The Final String : d  = = \", d)"
   ]
  },
  {
   "cell_type": "code",
   "execution_count": 6,
   "id": "515804e4",
   "metadata": {},
   "outputs": [
    {
     "name": "stdout",
     "output_type": "stream",
     "text": [
      "a.capitalize() :  This is string example....wow!!!\n"
     ]
    }
   ],
   "source": [
    "a = \"this is string example....wow!!!\";\n",
    "print (\"a.capitalize() : \", a.capitalize())"
   ]
  },
  {
   "cell_type": "code",
   "execution_count": null,
   "id": "eed86dc0",
   "metadata": {},
   "outputs": [],
   "source": []
  }
 ],
 "metadata": {
  "kernelspec": {
   "display_name": "Python 3",
   "language": "python",
   "name": "python3"
  },
  "language_info": {
   "codemirror_mode": {
    "name": "ipython",
    "version": 3
   },
   "file_extension": ".py",
   "mimetype": "text/x-python",
   "name": "python",
   "nbconvert_exporter": "python",
   "pygments_lexer": "ipython3",
   "version": "3.8.8"
  }
 },
 "nbformat": 4,
 "nbformat_minor": 5
}
