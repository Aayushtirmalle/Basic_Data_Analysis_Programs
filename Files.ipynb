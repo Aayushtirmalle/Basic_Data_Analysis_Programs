{
 "cells": [
  {
   "cell_type": "code",
   "execution_count": 1,
   "id": "a68835a9",
   "metadata": {},
   "outputs": [
    {
     "name": "stdout",
     "output_type": "stream",
     "text": [
      "Enter your input: Aayush\n",
      "Received input is :  Aayush\n"
     ]
    }
   ],
   "source": [
    "str = input(\"Enter your input: \")\n",
    "print (\"Received input is : \", str)"
   ]
  },
  {
   "cell_type": "code",
   "execution_count": 6,
   "id": "300686b8",
   "metadata": {},
   "outputs": [
    {
     "name": "stdout",
     "output_type": "stream",
     "text": [
      "Name of the file:  demo.txt\n"
     ]
    }
   ],
   "source": [
    "fo = open(\"demo.txt\", \"wb\")\n",
    "print (\"Name of the file: \", fo.name)\n",
    "fo.close()"
   ]
  },
  {
   "cell_type": "code",
   "execution_count": 2,
   "id": "812c086c",
   "metadata": {},
   "outputs": [
    {
     "name": "stdout",
     "output_type": "stream",
     "text": [
      "AayushAayushAayush\n"
     ]
    }
   ],
   "source": [
    "f = open(\"demo1.txt\", \"a\")\n",
    "f.write(\"Aayush\")\n",
    "f.close()\n",
    "f = open(\"demo1.txt\", \"r\")\n",
    "print(f.read())"
   ]
  },
  {
   "cell_type": "code",
   "execution_count": 9,
   "id": "d409461c",
   "metadata": {},
   "outputs": [
    {
     "name": "stdout",
     "output_type": "stream",
     "text": [
      "Read string is :  Aayush \n"
     ]
    }
   ],
   "source": [
    "qw= open(\"demo.txt\",\"r+\")\n",
    "qw.write(\"Aayush Manoj Tirmalle\")\n",
    "qw.close()\n",
    "qw= open(\"demo.txt\",\"r+\")\n",
    "\n",
    "str=qw.read(7)\n",
    "print(\"Read string is : \",str)\n",
    "qw.close()"
   ]
  },
  {
   "cell_type": "code",
   "execution_count": 10,
   "id": "c9bc6573",
   "metadata": {},
   "outputs": [
    {
     "name": "stdout",
     "output_type": "stream",
     "text": [
      "Name of the file:  demo.txt\n",
      "Closed or not :  False\n",
      "Opening mode :  wb\n"
     ]
    }
   ],
   "source": [
    "qw = open(\"demo.txt\", \"wb\")\n",
    "print (\"Name of the file: \", qw.name)\n",
    "print (\"Closed or not : \", qw.closed)\n",
    "print (\"Opening mode : \", qw.mode)\n"
   ]
  },
  {
   "cell_type": "code",
   "execution_count": 1,
   "id": "9adb940c",
   "metadata": {},
   "outputs": [
    {
     "name": "stdout",
     "output_type": "stream",
     "text": [
      "Read String is :  AayushAayu\n",
      "Current file position :  10\n",
      "Again read String is :  ayushAa\n",
      "my new string=  yus\n"
     ]
    }
   ],
   "source": [
    "aw = open(\"demo1.txt\", \"r+\")\n",
    "str = aw.read(10)\n",
    "print (\"Read String is : \", str)\n",
    "position = aw.tell()\n",
    "print (\"Current file position : \", position)\n",
    "position = aw.seek(1, 0);\n",
    "str = aw.read(7)\n",
    "print (\"Again read String is : \", str)\n",
    "ptr=aw.seek(0,1)\n",
    "str1=aw.read(3)\n",
    "print(\"my new string= \", str1)\n",
    "aw.close()"
   ]
  },
  {
   "cell_type": "code",
   "execution_count": null,
   "id": "31c042f6",
   "metadata": {},
   "outputs": [],
   "source": []
  }
 ],
 "metadata": {
  "kernelspec": {
   "display_name": "Python 3",
   "language": "python",
   "name": "python3"
  },
  "language_info": {
   "codemirror_mode": {
    "name": "ipython",
    "version": 3
   },
   "file_extension": ".py",
   "mimetype": "text/x-python",
   "name": "python",
   "nbconvert_exporter": "python",
   "pygments_lexer": "ipython3",
   "version": "3.8.8"
  }
 },
 "nbformat": 4,
 "nbformat_minor": 5
}
