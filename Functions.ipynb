{
 "cells": [
  {
   "cell_type": "code",
   "execution_count": 1,
   "id": "c0bb4e9c",
   "metadata": {},
   "outputs": [
    {
     "name": "stdout",
     "output_type": "stream",
     "text": [
      "1\n",
      "2\n",
      "in function   Aayush\n",
      "after printing in function definition\n",
      "in function   Tirmalle\n",
      "after printing in function definition\n",
      "3\n"
     ]
    }
   ],
   "source": [
    "def hello (str):\n",
    "     print(\"in function   \" + str)\n",
    "     print(\"after printing in function definition\")\n",
    "     return;\n",
    "print(\"1\")\n",
    "print(\"2\")\n",
    "hello(\"Aayush\")\n",
    "hello(\"Tirmalle\")\n",
    "print(\"3\")"
   ]
  },
  {
   "cell_type": "code",
   "execution_count": 2,
   "id": "f3788684",
   "metadata": {},
   "outputs": [
    {
     "name": "stdout",
     "output_type": "stream",
     "text": [
      "Values inside the function:  [10, 20, 30, [1, 2, 3, 4]]\n",
      "Values outside the function:  [10, 20, 30, [1, 2, 3, 4]]\n"
     ]
    }
   ],
   "source": [
    "def changeme( mylist ):\n",
    "   mylist.append([1,2,3,4]);\n",
    "   print (\"Values inside the function: \", mylist)\n",
    "   return;\n",
    "mylist = [10,20,30];\n",
    "changeme( mylist );\n",
    "print (\"Values outside the function: \", mylist)"
   ]
  },
  {
   "cell_type": "code",
   "execution_count": 4,
   "id": "4425d8a9",
   "metadata": {},
   "outputs": [
    {
     "name": "stdout",
     "output_type": "stream",
     "text": [
      "BEFORE CHANGES Values inside the function:  [10, 20, 30]\n",
      "AFTER CHANGES Values inside the function:  [1, 2, 3, 4]\n",
      "Values outside the function:  [10, 20, 30]\n"
     ]
    }
   ],
   "source": [
    "def changeme( mylist ):\n",
    "    print (\"BEFORE CHANGES Values inside the function: \", mylist)\n",
    "    mylist = [1,2,3,4]; \n",
    "    print (\"AFTER CHANGES Values inside the function: \", mylist)\n",
    "    return\n",
    "mylist1 = [10,20,30];\n",
    "changeme( mylist1 );\n",
    "print (\"Values outside the function: \", mylist1)"
   ]
  },
  {
   "cell_type": "code",
   "execution_count": 5,
   "id": "261bcb94",
   "metadata": {},
   "outputs": [
    {
     "name": "stdout",
     "output_type": "stream",
     "text": [
      "My string\n"
     ]
    }
   ],
   "source": [
    " def printme( str ):\n",
    "     print (str)\n",
    "     return;\n",
    "printme( str = \"My string\")"
   ]
  },
  {
   "cell_type": "code",
   "execution_count": 9,
   "id": "20b4e99d",
   "metadata": {},
   "outputs": [
    {
     "name": "stdout",
     "output_type": "stream",
     "text": [
      "Name:  Aayush\n",
      "Age:  20\n"
     ]
    }
   ],
   "source": [
    "def printinfo( name, age ):\n",
    "    print (\"Name: \",name)\n",
    "    print (\"Age: \",age)\n",
    "    return;\n",
    "printinfo( age=20, name=\"Aayush\" )"
   ]
  },
  {
   "cell_type": "code",
   "execution_count": 11,
   "id": "64fd5aa9",
   "metadata": {},
   "outputs": [
    {
     "name": "stdout",
     "output_type": "stream",
     "text": [
      "Name:  Aayush\n",
      "Age:  20\n"
     ]
    }
   ],
   "source": [
    "def printinfo( name, age ):\n",
    "    print (\"Name: \", name)\n",
    "    print (\"Age: \", age)\n",
    "    return;\n",
    "printinfo( \"Aayush\",20 )"
   ]
  },
  {
   "cell_type": "code",
   "execution_count": 13,
   "id": "404ae193",
   "metadata": {},
   "outputs": [
    {
     "name": "stdout",
     "output_type": "stream",
     "text": [
      "Name:  20\n",
      "Age:  Aayush\n"
     ]
    }
   ],
   "source": [
    "def printinfo( name, age ):\n",
    "    print (\"Name: \", name)\n",
    "    print (\"Age: \", age)\n",
    "    return;\n",
    "printinfo( 20, \"Aayush\" )"
   ]
  },
  {
   "cell_type": "code",
   "execution_count": 16,
   "id": "0458e06f",
   "metadata": {},
   "outputs": [
    {
     "name": "stdout",
     "output_type": "stream",
     "text": [
      "Name:  qwe\n",
      "Age:  50\n",
      "Name:  asd\n",
      "Age:  35\n"
     ]
    }
   ],
   "source": [
    "def printinfo( name, age = 35 ):\n",
    "    print (\"Name: \", name)\n",
    "    print (\"Age: \", age)\n",
    "    return;\n",
    "printinfo( age=50, name=\"qwe\" )\n",
    "printinfo( name=\"asd\" )"
   ]
  },
  {
   "cell_type": "code",
   "execution_count": 17,
   "id": "55b981ac",
   "metadata": {},
   "outputs": [
    {
     "name": "stdout",
     "output_type": "stream",
     "text": [
      "Output is: \n",
      "arg1== 10\n",
      "78\n",
      "Output is: \n",
      "arg1== 70\n",
      "60\n",
      "50\n",
      "90\n"
     ]
    }
   ],
   "source": [
    "def printinfo( arg1, *vartuple ):\n",
    "     print (\"Output is: \")\n",
    "     print (\"arg1==\",arg1)\n",
    "     for var in vartuple:\n",
    "        print (var)\n",
    "     return;\n",
    "printinfo(10,78)\n",
    "printinfo(70,60,50,90)"
   ]
  },
  {
   "cell_type": "code",
   "execution_count": 18,
   "id": "e8bed6e2",
   "metadata": {},
   "outputs": [
    {
     "name": "stdout",
     "output_type": "stream",
     "text": [
      "Value of total :  30\n",
      "Value of total :  40\n"
     ]
    }
   ],
   "source": [
    "sum = lambda arg1, arg2: arg1 + arg2;\n",
    "print (\"Value of total : \", sum( 10, 20 ))\n",
    "print (\"Value of total : \", sum( 20, 20 ))"
   ]
  },
  {
   "cell_type": "code",
   "execution_count": 22,
   "id": "4a97cc89",
   "metadata": {},
   "outputs": [
    {
     "name": "stdout",
     "output_type": "stream",
     "text": [
      "Inside the function :  30\n",
      "Outside the function :  30\n"
     ]
    }
   ],
   "source": [
    "def sum( arg1, arg2 ):\n",
    "    total = arg1 + arg2\n",
    "    print (\"Inside the function : \", total)\n",
    "    return total\n",
    "total1 = sum( 10, 20 )\n",
    "print (\"Outside the function : \", total1 )"
   ]
  },
  {
   "cell_type": "code",
   "execution_count": 21,
   "id": "4f06f4fc",
   "metadata": {},
   "outputs": [
    {
     "name": "stdout",
     "output_type": "stream",
     "text": [
      "Inside the function local total :  30\n",
      "Outside the function global total :  99\n"
     ]
    }
   ],
   "source": [
    "total = 99 \n",
    "def sum( arg1, arg2 ):\n",
    "    total = arg1 + arg2\n",
    "    print (\"Inside the function local total : \", total)\n",
    "    return total\n",
    "sum( 10, 20 )\n",
    "print (\"Outside the function global total : \", total )"
   ]
  }
 ],
 "metadata": {
  "kernelspec": {
   "display_name": "Python 3",
   "language": "python",
   "name": "python3"
  },
  "language_info": {
   "codemirror_mode": {
    "name": "ipython",
    "version": 3
   },
   "file_extension": ".py",
   "mimetype": "text/x-python",
   "name": "python",
   "nbconvert_exporter": "python",
   "pygments_lexer": "ipython3",
   "version": "3.8.8"
  }
 },
 "nbformat": 4,
 "nbformat_minor": 5
}
