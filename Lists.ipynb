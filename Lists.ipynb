{
 "cells": [
  {
   "cell_type": "code",
   "execution_count": 1,
   "id": "88cdb46d",
   "metadata": {},
   "outputs": [
    {
     "name": "stdout",
     "output_type": "stream",
     "text": [
      "list1[0]:  1997\n",
      "list2[1:5]:  [2, 3]\n"
     ]
    }
   ],
   "source": [
    "list1 = ['physics', 'chemistry', 1997, 2000];\n",
    "list2 = [1, 2, 3, 4, 5, 6, 7 ];\n",
    "print (\"list1[0]: \", list1[2])\n",
    "print (\"list2[1:5]: \", list2[1:3])"
   ]
  },
  {
   "cell_type": "code",
   "execution_count": 5,
   "id": "cb6c1bcd",
   "metadata": {},
   "outputs": [
    {
     "name": "stdout",
     "output_type": "stream",
     "text": [
      "Value available at index 2 : \n",
      "1997\n",
      "New value available at index 2 : \n",
      "999999\n",
      "['physics', 'chemistry', 999999, 2000]\n"
     ]
    }
   ],
   "source": [
    "list = ['physics', 'chemistry', 1997, 2000];\n",
    "print (\"Value available at index 2 : \")\n",
    "print (list[2])\n",
    "list[2] = 999999;\n",
    "print (\"New value available at index 2 : \")\n",
    "print (list[2])\n",
    "print(list)"
   ]
  },
  {
   "cell_type": "code",
   "execution_count": 6,
   "id": "300b6c8f",
   "metadata": {},
   "outputs": [
    {
     "name": "stdout",
     "output_type": "stream",
     "text": [
      "['physics', 'chemistry', 1997, 2000]\n",
      "After deleting value at index 2 :\n",
      "['physics', 'chemistry', 2000]\n"
     ]
    }
   ],
   "source": [
    "list1 = ['physics', 'chemistry', 1997, 2000];\n",
    "print (list1)\n",
    "del (list1[2]);\n",
    "print (\"After deleting value at index 2 :\")\n",
    "print (list1)"
   ]
  },
  {
   "cell_type": "code",
   "execution_count": 8,
   "id": "7e4c32a7",
   "metadata": {},
   "outputs": [
    {
     "name": "stdout",
     "output_type": "stream",
     "text": [
      "First list length :  3\n",
      "Second list length :  2\n"
     ]
    }
   ],
   "source": [
    "list1, list2 = [123, 'xyz', 'abc'], [456, 'bcd']\n",
    "print (\"First list length : \", len(list1))\n",
    "print (\"Second list length : \", len(list2))"
   ]
  },
  {
   "cell_type": "code",
   "execution_count": 9,
   "id": "52b79ab8",
   "metadata": {},
   "outputs": [
    {
     "name": "stdout",
     "output_type": "stream",
     "text": [
      "Updated List :  [123, 'xyz', 'zara', 'abc', 2009]\n"
     ]
    }
   ],
   "source": [
    "aList = [123, 'xyz', 'zara', 'abc'];\n",
    "aList.append( 2009 );\n",
    "print (\"Updated List : \", aList)"
   ]
  },
  {
   "cell_type": "code",
   "execution_count": 10,
   "id": "a5280828",
   "metadata": {},
   "outputs": [
    {
     "name": "stdout",
     "output_type": "stream",
     "text": [
      "Count for xyz :  2\n",
      "Count for zara :  0\n"
     ]
    }
   ],
   "source": [
    "aList = [123, 'xyz', 'xyz', 'abc', 123];\n",
    "print (\"Count for xyz : \", aList.count('xyz'))\n",
    "print (\"Count for zara : \", aList.count('zara'))"
   ]
  },
  {
   "cell_type": "code",
   "execution_count": 12,
   "id": "52cb94ce",
   "metadata": {},
   "outputs": [
    {
     "name": "stdout",
     "output_type": "stream",
     "text": [
      "Extended List :  [123, 'xyz', 'qwe', 'abc', 123, 2009, 'asd']\n"
     ]
    }
   ],
   "source": [
    "aList = [123, 'xyz', 'qwe', 'abc', 123];\n",
    "bList = [2009, 'asd'];\n",
    "aList.extend(bList)\n",
    "print (\"Extended List : \", aList)"
   ]
  },
  {
   "cell_type": "code",
   "execution_count": 14,
   "id": "48da72a7",
   "metadata": {},
   "outputs": [
    {
     "name": "stdout",
     "output_type": "stream",
     "text": [
      "Index for xyz :  1\n",
      "Index for qwe :  2\n"
     ]
    }
   ],
   "source": [
    "aList = [123, 'xyz', 'qwe', 'abc', 'qwe'];\n",
    "print (\"Index for xyz : \", aList.index( 'xyz' ) )\n",
    "print (\"Index for qwe : \", aList.index( 'qwe' ) )"
   ]
  },
  {
   "cell_type": "code",
   "execution_count": 15,
   "id": "88917f01",
   "metadata": {},
   "outputs": [
    {
     "name": "stdout",
     "output_type": "stream",
     "text": [
      "Final List :  [123, 'xyz', 'qwe', 2009, 'abc']\n"
     ]
    }
   ],
   "source": [
    "aList = [123, 'xyz', 'qwe', 'abc']\n",
    "aList.insert( 3, 2009)\n",
    "print (\"Final List : \", aList)"
   ]
  },
  {
   "cell_type": "code",
   "execution_count": 17,
   "id": "524aa92d",
   "metadata": {},
   "outputs": [
    {
     "name": "stdout",
     "output_type": "stream",
     "text": [
      "[123, 'xyz', 'qwe', 'abc']\n",
      "List after popping last element :  abc\n",
      "[123, 'xyz', 'qwe']\n",
      "List after popping element from mentioned index:  qwe\n",
      "[123, 'xyz']\n",
      "[123, 'xyz', 2009]\n"
     ]
    }
   ],
   "source": [
    "aList = [123, 'xyz', 'qwe', 'abc'];\n",
    "print(aList)\n",
    "print (\"List after popping last element : \", aList.pop())\n",
    "print(aList)\n",
    "print (\"List after popping element from mentioned index: \", aList.pop(2))\n",
    "print(aList)\n",
    "aList.insert(3, 2009)\n",
    "print(aList)"
   ]
  },
  {
   "cell_type": "code",
   "execution_count": 1,
   "id": "25808ed1",
   "metadata": {},
   "outputs": [
    {
     "name": "stdout",
     "output_type": "stream",
     "text": [
      "List :  [123, 'qwe', 'abc', 'xyz']\n",
      "List :  [123, 'qwe', 'xyz']\n"
     ]
    }
   ],
   "source": [
    "aList = [123, 'xyz', 'qwe', 'abc', 'xyz'];\n",
    "aList.remove('xyz');\n",
    "print (\"List : \", aList)\n",
    "aList.remove('abc');\n",
    "print (\"List : \", aList)"
   ]
  },
  {
   "cell_type": "code",
   "execution_count": 2,
   "id": "19712711",
   "metadata": {},
   "outputs": [
    {
     "name": "stdout",
     "output_type": "stream",
     "text": [
      "List :  ['poi', 'abc', 'qwe', 'xyz', 'Aayush']\n"
     ]
    }
   ],
   "source": [
    "aList = ['Aayush', 'xyz', 'qwe', 'abc', 'poi'];\n",
    "aList.reverse();\n",
    "print (\"List : \", aList)"
   ]
  },
  {
   "cell_type": "code",
   "execution_count": 3,
   "id": "b7cd2eac",
   "metadata": {},
   "outputs": [
    {
     "name": "stdout",
     "output_type": "stream",
     "text": [
      "List :  ['asd', 'lkj', 'poi', 'qwe', 'zxc']\n"
     ]
    }
   ],
   "source": [
    "aList = ['qwe', 'asd', 'zxc', 'poi', 'lkj'];\n",
    "aList.sort();\n",
    "print (\"List : \", aList)"
   ]
  }
 ],
 "metadata": {
  "kernelspec": {
   "display_name": "Python 3",
   "language": "python",
   "name": "python3"
  },
  "language_info": {
   "codemirror_mode": {
    "name": "ipython",
    "version": 3
   },
   "file_extension": ".py",
   "mimetype": "text/x-python",
   "name": "python",
   "nbconvert_exporter": "python",
   "pygments_lexer": "ipython3",
   "version": "3.8.8"
  }
 },
 "nbformat": 4,
 "nbformat_minor": 5
}
