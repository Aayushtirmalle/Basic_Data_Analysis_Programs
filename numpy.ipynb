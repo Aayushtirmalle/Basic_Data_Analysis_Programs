{
 "cells": [
  {
   "cell_type": "code",
   "execution_count": 4,
   "id": "4a06f5a2",
   "metadata": {},
   "outputs": [
    {
     "name": "stdout",
     "output_type": "stream",
     "text": [
      "Print A=  5\n",
      "Print B=  [1 2 3]\n",
      "After Addition = [6 7 8]\n",
      "After Subtraction = [-4 -3 -2]\n",
      "After Multiplcation = [ 5 10 15]\n",
      "After Division = [0.2 0.4 0.6]\n",
      "After Division = [0.5 1.  1.5]\n"
     ]
    }
   ],
   "source": [
    "import numpy as np\n",
    "a=np.array(5)\n",
    "print(\"Print A= \",a)\n",
    "b=np.array([1,2,3])\n",
    "print(\"Print B= \", b)\n",
    "addition= np.add(a,b)\n",
    "print(\"After Addition =\", addition)\n",
    "sub=np.subtract(b,a)\n",
    "print(\"After Subtraction =\",sub)\n",
    "mul=np.multiply (a,b)\n",
    "print(\"After Multiplcation =\",mul)\n",
    "div=np.divide (b,a)\n",
    "print(\"After Division =\",div)\n",
    "div1=np.divide (b,2)\n",
    "print(\"After Division =\",div1)"
   ]
  },
  {
   "cell_type": "code",
   "execution_count": 5,
   "id": "2474dd6e",
   "metadata": {},
   "outputs": [
    {
     "name": "stdout",
     "output_type": "stream",
     "text": [
      "[0.25 0.5  0.75 1.  ]\n",
      "[4.         2.         1.33333333 1.        ]\n"
     ]
    }
   ],
   "source": [
    "a= np.array([0.25,0.5,0.75,1])\n",
    "print(a)\n",
    "rec=np.reciprocal(a) \n",
    "print(rec)"
   ]
  },
  {
   "cell_type": "code",
   "execution_count": 6,
   "id": "96e33c2d",
   "metadata": {},
   "outputs": [
    {
     "name": "stdout",
     "output_type": "stream",
     "text": [
      "[   5   10 1000]\n",
      "after ^2 =  [     25     100 1000000]\n",
      "after b array elements as ^ =  [  25 1000 1000]\n"
     ]
    }
   ],
   "source": [
    "a=np.array([5,10,1000])\n",
    "print(a)\n",
    "pow=np.power(a,2)\n",
    "print(\"after ^2 = \", pow)\n",
    "b=np.array([2,3,1])\n",
    "pow1=np.power(a,b)\n",
    "print(\"after b array elements as ^ = \", pow1)"
   ]
  },
  {
   "cell_type": "code",
   "execution_count": 16,
   "id": "141cb307",
   "metadata": {},
   "outputs": [
    {
     "name": "stdout",
     "output_type": "stream",
     "text": [
      "values of A= [10 20 30]\n",
      "values of B= [3 5 7]\n",
      "values of mod= [1 0 2]\n",
      "values of Remainder= [1 0 2]\n"
     ]
    }
   ],
   "source": [
    "a= np.array ([10,20,30])\n",
    "b= np.array ([3,5,7])\n",
    "print(\"values of A=\", a)\n",
    "print(\"values of B=\", b)\n",
    "mm=np.mod(a,b)\n",
    "rm=np.remainder(a,b)\n",
    "print(\"values of mod=\", mm)\n",
    "print(\"values of Remainder=\", rm)"
   ]
  },
  {
   "cell_type": "code",
   "execution_count": 11,
   "id": "1beb1e2c",
   "metadata": {},
   "outputs": [
    {
     "name": "stdout",
     "output_type": "stream",
     "text": [
      "[1.-2.j 8.+6.j 7.+0.j 2.+3.j]\n",
      "real= [1. 8. 7. 2.]\n",
      "imaginary= [-2.  6.  0.  3.]\n",
      "Conjugate= [1.+2.j 8.-6.j 7.-0.j 2.-3.j]\n"
     ]
    }
   ],
   "source": [
    "a=np.array([1.-2j, 8.+6j,7, 2+3j])\n",
    "print(a)\n",
    "print(\"real=\",np.real(a))\n",
    "print(\"imaginary=\",np.imag(a))\n",
    "print(\"Conjugate=\", np.conj(a))"
   ]
  },
  {
   "cell_type": "code",
   "execution_count": 14,
   "id": "e87689aa",
   "metadata": {},
   "outputs": [
    {
     "name": "stdout",
     "output_type": "stream",
     "text": [
      "[ 10.9    5.4  987.98   2.56  25.5 ]\n",
      "after rounding up= [ 11.   5. 988.   3.  26.]\n",
      "after rounding up to 1st decimal value = [ 10.9   5.4 988.    2.6  25.5]\n"
     ]
    }
   ],
   "source": [
    "a=np.array ([10.9,5.4,987.98,2.56,25.5])\n",
    "print(a)\n",
    "print(\"after rounding up=\", np.around(a))\n",
    "print(\"after rounding up to 1st decimal value =\", np.around(a,decimals=1))"
   ]
  },
  {
   "cell_type": "code",
   "execution_count": 15,
   "id": "280b26c3",
   "metadata": {},
   "outputs": [
    {
     "name": "stdout",
     "output_type": "stream",
     "text": [
      "[ 10.9   -5.5  987.98  -2.56  25.5 ]\n",
      "\n",
      "\n",
      "[ 10.  -6. 987.  -3.  25.]\n",
      "[ 11.  -5. 988.  -2.  26.]\n"
     ]
    }
   ],
   "source": [
    "a=np.array ([10.9,-5.5,987.98,-2.56,25.5])\n",
    "print(a)\n",
    "print('\\n')\n",
    "print(np.floor(a))\n",
    "print(np.ceil(a))"
   ]
  },
  {
   "cell_type": "code",
   "execution_count": null,
   "id": "5d8321a9",
   "metadata": {},
   "outputs": [],
   "source": []
  }
 ],
 "metadata": {
  "kernelspec": {
   "display_name": "Python 3",
   "language": "python",
   "name": "python3"
  },
  "language_info": {
   "codemirror_mode": {
    "name": "ipython",
    "version": 3
   },
   "file_extension": ".py",
   "mimetype": "text/x-python",
   "name": "python",
   "nbconvert_exporter": "python",
   "pygments_lexer": "ipython3",
   "version": "3.8.8"
  }
 },
 "nbformat": 4,
 "nbformat_minor": 5
}
