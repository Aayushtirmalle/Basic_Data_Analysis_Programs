{
 "cells": [
  {
   "cell_type": "code",
   "execution_count": 3,
   "id": "513854ab",
   "metadata": {},
   "outputs": [
    {
     "name": "stdout",
     "output_type": "stream",
     "text": [
      "enter the number?1234567890\n",
      "Number is even\n",
      "Thank You\n"
     ]
    }
   ],
   "source": [
    "num = int(input(\"enter the number?\"))  \n",
    "if num%2 == 0:  \n",
    "    print(\"Number is even\")\n",
    "print(\"Thank You\") "
   ]
  },
  {
   "cell_type": "code",
   "execution_count": 4,
   "id": "cf214dca",
   "metadata": {},
   "outputs": [
    {
     "name": "stdout",
     "output_type": "stream",
     "text": [
      "Enter a- 12\n",
      "Enter b- 32\n",
      "Enter c- 123\n",
      "c is largest\n"
     ]
    }
   ],
   "source": [
    "a = int(input(\"Enter a- \"));  \n",
    "b = int(input(\"Enter b- \"));  \n",
    "c = int(input(\"Enter c- \"));  \n",
    "if a>b and a>c:  \n",
    "    print(\"a is largest\");  \n",
    "if b>a and b>c:  \n",
    "    print(\"b is largest\");  \n",
    "if c>a and c>b:  \n",
    "    print(\"c is largest\");  "
   ]
  },
  {
   "cell_type": "code",
   "execution_count": 5,
   "id": "b9ae400f",
   "metadata": {},
   "outputs": [
    {
     "name": "stdout",
     "output_type": "stream",
     "text": [
      "Enter your age? 20\n",
      "You are eligible to vote !!\n"
     ]
    }
   ],
   "source": [
    "age = int (input(\"Enter your age? \"))  \n",
    "if age>=18:  \n",
    "    print(\"You are eligible to vote !!\");  \n",
    "else:  \n",
    "    print(\"Sorry! you have to wait !!\");  "
   ]
  },
  {
   "cell_type": "code",
   "execution_count": 7,
   "id": "c8f3722d",
   "metadata": {},
   "outputs": [
    {
     "name": "stdout",
     "output_type": "stream",
     "text": [
      "enter the number?3\n",
      "Number is odd...\n"
     ]
    }
   ],
   "source": [
    "num = int(input(\"enter the number?\"))  \n",
    "if num%2 == 0:  \n",
    "    print(\"Number is even...\")  \n",
    "else:  \n",
    "    print(\"Number is odd...\")  "
   ]
  },
  {
   "cell_type": "code",
   "execution_count": 8,
   "id": "18e11d56",
   "metadata": {},
   "outputs": [
    {
     "name": "stdout",
     "output_type": "stream",
     "text": [
      "Enter the number?32\n",
      "number is not equal to 10, 50 or 100\n"
     ]
    }
   ],
   "source": [
    "number = int(input(\"Enter the number?\"))  \n",
    "if number==10:  \n",
    "    print(\"number is equals to 10\")  \n",
    "elif number==50:  \n",
    "    print(\"number is equal to 50\");  \n",
    "elif number==100:  \n",
    "    print(\"number is equal to 100\");  \n",
    "else:  \n",
    "    print(\"number is not equal to 10, 50 or 100\");  "
   ]
  },
  {
   "cell_type": "code",
   "execution_count": 9,
   "id": "c81dba93",
   "metadata": {},
   "outputs": [
    {
     "name": "stdout",
     "output_type": "stream",
     "text": [
      "Enter the marks? 95\n",
      "Congrats ! you scored grade A ...\n"
     ]
    }
   ],
   "source": [
    "marks = int(input(\"Enter the marks? \"))  \n",
    "if marks > 85 and marks <= 100:  \n",
    "    print(\"Congrats ! you scored grade A ...\")  \n",
    "elif marks > 60 and marks <= 85:  \n",
    "    print(\"You scored grade B + ...\")  \n",
    "elif marks > 40 and marks <= 60:  \n",
    "    print(\"You scored grade B ...\")  \n",
    "elif (marks > 30 and marks <= 40):  \n",
    "    print(\"You scored grade C ...\")  \n",
    "else:  \n",
    "    print(\"Sorry you are fail ?\")  "
   ]
  }
 ],
 "metadata": {
  "kernelspec": {
   "display_name": "Python 3",
   "language": "python",
   "name": "python3"
  },
  "language_info": {
   "codemirror_mode": {
    "name": "ipython",
    "version": 3
   },
   "file_extension": ".py",
   "mimetype": "text/x-python",
   "name": "python",
   "nbconvert_exporter": "python",
   "pygments_lexer": "ipython3",
   "version": "3.8.8"
  }
 },
 "nbformat": 4,
 "nbformat_minor": 5
}
