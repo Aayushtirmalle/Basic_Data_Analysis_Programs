{
 "cells": [
  {
   "cell_type": "code",
   "execution_count": 1,
   "id": "b72d1e90",
   "metadata": {},
   "outputs": [
    {
     "name": "stdout",
     "output_type": "stream",
     "text": [
      "('Aayush', 'CSE')\n",
      "(1, 2, 3, 9, 8)\n",
      "('qwe', 'asd')\n"
     ]
    }
   ],
   "source": [
    "tu=('Aayush','CSE')\n",
    "print(tu)\n",
    "tu1=(1,2,3,9,8)\n",
    "print(tu1)\n",
    "tu2=\"qwe\",\"asd\"\n",
    "print(tu2)"
   ]
  },
  {
   "cell_type": "code",
   "execution_count": 1,
   "id": "e2d4a104",
   "metadata": {},
   "outputs": [
    {
     "name": "stdout",
     "output_type": "stream",
     "text": [
      "()\n",
      "24\n"
     ]
    }
   ],
   "source": [
    "tu1 = ()\n",
    "print(tu1)\n",
    "tu2 = (24)\n",
    "print(tu2)"
   ]
  },
  {
   "cell_type": "code",
   "execution_count": 3,
   "id": "3b5bb530",
   "metadata": {},
   "outputs": [
    {
     "name": "stdout",
     "output_type": "stream",
     "text": [
      "Aayush\n",
      "('Aayush', '7thSem')\n"
     ]
    }
   ],
   "source": [
    "tu=('Aayush','7thSem','cse','2018 batch')\n",
    "print(tu[0])\n",
    "print(tu[0:2])"
   ]
  },
  {
   "cell_type": "code",
   "execution_count": 4,
   "id": "5b52969c",
   "metadata": {},
   "outputs": [
    {
     "name": "stdout",
     "output_type": "stream",
     "text": [
      "('Aayush', '7thSem', 'cse', '2018 batch')\n"
     ]
    },
    {
     "ename": "NameError",
     "evalue": "name 'tu' is not defined",
     "output_type": "error",
     "traceback": [
      "\u001b[0;31m---------------------------------------------------------------------------\u001b[0m",
      "\u001b[0;31mNameError\u001b[0m                                 Traceback (most recent call last)",
      "\u001b[0;32m<ipython-input-4-991b2fabc934>\u001b[0m in \u001b[0;36m<module>\u001b[0;34m\u001b[0m\n\u001b[1;32m      2\u001b[0m \u001b[0mprint\u001b[0m\u001b[0;34m(\u001b[0m\u001b[0mtu\u001b[0m\u001b[0;34m)\u001b[0m\u001b[0;34m\u001b[0m\u001b[0;34m\u001b[0m\u001b[0m\n\u001b[1;32m      3\u001b[0m \u001b[0;32mdel\u001b[0m \u001b[0mtu\u001b[0m\u001b[0;34m\u001b[0m\u001b[0;34m\u001b[0m\u001b[0m\n\u001b[0;32m----> 4\u001b[0;31m \u001b[0mprint\u001b[0m\u001b[0;34m(\u001b[0m\u001b[0mtu\u001b[0m\u001b[0;34m)\u001b[0m\u001b[0;34m\u001b[0m\u001b[0;34m\u001b[0m\u001b[0m\n\u001b[0m",
      "\u001b[0;31mNameError\u001b[0m: name 'tu' is not defined"
     ]
    }
   ],
   "source": [
    "tu=('Aayush','7thSem','cse','2018 batch')\n",
    "print(tu)\n",
    "del tu\n",
    "print(tu)"
   ]
  },
  {
   "cell_type": "code",
   "execution_count": 5,
   "id": "3837750d",
   "metadata": {},
   "outputs": [
    {
     "name": "stdout",
     "output_type": "stream",
     "text": [
      "('Aayush', '7thSem', 'cse', '2018 batch')\n",
      "('1', '2', '3')\n",
      "('Aayush', '7thSem', 'cse', '2018 batch', '1', '2', '3')\n"
     ]
    }
   ],
   "source": [
    "tu=('Aayush','7thSem','cse','2018 batch')\n",
    "print(tu)\n",
    "tu1=('1','2','3')\n",
    "tu2=tu+tu1\n",
    "print(tu1)\n",
    "print(tu2)"
   ]
  },
  {
   "cell_type": "code",
   "execution_count": 6,
   "id": "290f7714",
   "metadata": {},
   "outputs": [
    {
     "name": "stdout",
     "output_type": "stream",
     "text": [
      "('Aayush', '7thSem', 'cse', '2018 batch')\n",
      "value at 1st loc=  7thSem\n"
     ]
    },
    {
     "ename": "TypeError",
     "evalue": "'tuple' object does not support item assignment",
     "output_type": "error",
     "traceback": [
      "\u001b[0;31m---------------------------------------------------------------------------\u001b[0m",
      "\u001b[0;31mTypeError\u001b[0m                                 Traceback (most recent call last)",
      "\u001b[0;32m<ipython-input-6-82404d7e55e7>\u001b[0m in \u001b[0;36m<module>\u001b[0;34m\u001b[0m\n\u001b[1;32m      2\u001b[0m \u001b[0mprint\u001b[0m\u001b[0;34m(\u001b[0m\u001b[0mtu\u001b[0m\u001b[0;34m)\u001b[0m\u001b[0;34m\u001b[0m\u001b[0;34m\u001b[0m\u001b[0m\n\u001b[1;32m      3\u001b[0m \u001b[0mprint\u001b[0m\u001b[0;34m(\u001b[0m\u001b[0;34m\"value at 1st loc= \"\u001b[0m\u001b[0;34m,\u001b[0m\u001b[0mtu\u001b[0m\u001b[0;34m[\u001b[0m\u001b[0;36m1\u001b[0m\u001b[0;34m]\u001b[0m\u001b[0;34m)\u001b[0m\u001b[0;34m\u001b[0m\u001b[0;34m\u001b[0m\u001b[0m\n\u001b[0;32m----> 4\u001b[0;31m \u001b[0mtu\u001b[0m\u001b[0;34m[\u001b[0m\u001b[0;36m3\u001b[0m\u001b[0;34m]\u001b[0m\u001b[0;34m=\u001b[0m\u001b[0;34m\"Tirmalle\"\u001b[0m\u001b[0;34m\u001b[0m\u001b[0;34m\u001b[0m\u001b[0m\n\u001b[0m\u001b[1;32m      5\u001b[0m \u001b[0mprint\u001b[0m\u001b[0;34m(\u001b[0m\u001b[0;34m\"UPDATED value at 3rd loc= \"\u001b[0m\u001b[0;34m,\u001b[0m\u001b[0mtu\u001b[0m\u001b[0;34m[\u001b[0m\u001b[0;36m3\u001b[0m\u001b[0;34m]\u001b[0m\u001b[0;34m)\u001b[0m\u001b[0;34m\u001b[0m\u001b[0;34m\u001b[0m\u001b[0m\n",
      "\u001b[0;31mTypeError\u001b[0m: 'tuple' object does not support item assignment"
     ]
    }
   ],
   "source": [
    "tu=('Aayush','7thSem','cse','2018 batch')\n",
    "print(tu)\n",
    "print(\"value at 1st loc= \",tu[1])\n",
    "tu[3]=\"Tirmalle\"\n",
    "print(\"UPDATED value at 3rd loc= \",tu[3])"
   ]
  },
  {
   "cell_type": "code",
   "execution_count": 7,
   "id": "dc90af85",
   "metadata": {},
   "outputs": [
    {
     "name": "stdout",
     "output_type": "stream",
     "text": [
      "('Aayush', '7thSem', 'cse', '2018 batch')\n",
      "('1', '2', '3')\n",
      "4\n",
      "3\n"
     ]
    }
   ],
   "source": [
    "tu=('Aayush','7thSem','cse','2018 batch')\n",
    "print(tu)\n",
    "tu1= ('1','2','3')\n",
    "print(tu1)\n",
    "a=len(tu)\n",
    "b=len(tu1)\n",
    "print(a)\n",
    "print(b)"
   ]
  },
  {
   "cell_type": "code",
   "execution_count": 8,
   "id": "41af51c9",
   "metadata": {},
   "outputs": [
    {
     "name": "stdout",
     "output_type": "stream",
     "text": [
      "('Aayush', '7thSem', 'cse', '2018 batch')\n",
      "('1', '2', '3')\n",
      "cse\n"
     ]
    }
   ],
   "source": [
    "tu=('Aayush','7thSem','cse','2018 batch')\n",
    "print(tu)\n",
    "tu1= ('1','2','3')\n",
    "print(tu1)\n",
    "print(max(tu))"
   ]
  },
  {
   "cell_type": "code",
   "execution_count": null,
   "id": "7a82bbb6",
   "metadata": {},
   "outputs": [],
   "source": []
  }
 ],
 "metadata": {
  "kernelspec": {
   "display_name": "Python 3",
   "language": "python",
   "name": "python3"
  },
  "language_info": {
   "codemirror_mode": {
    "name": "ipython",
    "version": 3
   },
   "file_extension": ".py",
   "mimetype": "text/x-python",
   "name": "python",
   "nbconvert_exporter": "python",
   "pygments_lexer": "ipython3",
   "version": "3.8.8"
  }
 },
 "nbformat": 4,
 "nbformat_minor": 5
}
